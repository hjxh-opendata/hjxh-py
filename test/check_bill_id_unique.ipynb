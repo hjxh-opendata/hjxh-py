{
 "cells": [
  {
   "cell_type": "code",
   "execution_count": 34,
   "metadata": {
    "collapsed": true
   },
   "outputs": [],
   "source": [
    "from db.bills import db_fetch_bills\n",
    "import pandas as pd"
   ]
  },
  {
   "cell_type": "code",
   "execution_count": 35,
   "outputs": [],
   "source": [
    "projection = {\n",
    "    \"created_at\": 1,\n",
    "    \"confirm_time\": 1,\n",
    "    \"goods_amount\": 1,\n",
    "    \"goods_id\": 1,\n",
    "    \"goods_number\": 1,\n",
    "    \"order_amount\": 1,\n",
    "    \"order_sn\": 1,\n",
    "    \"order_time\": 1,\n",
    "    \"promise_shipping_time\": 1,\n",
    "    \"shipping_time\": 1,\n",
    "    \"shipping_status\": 1,\n",
    "    \"shipping_id\": 1,\n",
    "    \"out_sku_sn\": 1,\n",
    "    \"pay_status\": 1\n",
    "}"
   ],
   "metadata": {
    "collapsed": false,
    "pycharm": {
     "name": "#%%\n"
    }
   }
  },
  {
   "cell_type": "code",
   "execution_count": 36,
   "outputs": [],
   "source": [
    "df_bills = pd.DataFrame(db_fetch_bills({}, skip=0, limit=0))"
   ],
   "metadata": {
    "collapsed": false,
    "pycharm": {
     "name": "#%%\n"
    }
   }
  },
  {
   "cell_type": "code",
   "execution_count": 37,
   "outputs": [],
   "source": [
    "def check_unique(k):\n",
    "    return k.value_counts().__len__()"
   ],
   "metadata": {
    "collapsed": false,
    "pycharm": {
     "name": "#%%\n"
    }
   }
  },
  {
   "cell_type": "code",
   "execution_count": 38,
   "outputs": [
    {
     "data": {
      "text/plain": "_id                               29246\norder_sn                          29246\nupdate_time                       29246\ncreated_at                        28930\norder_time                        28926\nconfirm_time                      20366\npromise_shipping_time             20339\nnickname                          15553\nreceive_name                       5112\nshipping_time                      4610\ndistrict_name                      1874\nafter_sales_id                     1688\norder_amount                        526\nurge_shipping_time                  434\nmall_remark                         320\nplatform_discount                   260\ncity_name                           259\ngoods_amount                        112\nout_sku_sn                           48\nspec                                 28\nthumb_url                            23\nprovince_name                        23\ngoods_number                         17\nafter_sales_status                   11\norder_status_str                     10\ngoods_name                           10\ngoods_id                              8\nshipping_id                           7\nmerchant_discount                     6\nbiz_type                              5\nshipping_status                       3\npay_status                            3\norder_status                          3\ntrade_type                            3\ngroup_status                          3\nis_exist_fine_info                    2\nmall_remark_tag                       2\nremark_status                         2\nbuyer_memo                            2\nmall_remark_name                      2\nshipping_amount                       1\nis_ota_virtual_card                   1\nrisk_status                           1\nbusiness_intra_sales                  1\nduoduo_wholesale                      1\nno_trace_delivery                     1\ngood_ware_internal_buy                1\nhasExtraGoods                         1\nno_need_ship                          1\nis_oversea_without_idcard_info        1\npayment_start_time                    1\ntype                                  1\nself_contained                        0\nstep_pay_orders                       0\nextraGoodsList                        0\ndelivery_one_day                      0\norder_handle_status                   0\nstockout_source_type                  0\ndtype: int64"
     },
     "execution_count": 38,
     "metadata": {},
     "output_type": "execute_result"
    }
   ],
   "source": [
    "df_bills.apply(check_unique).sort_values(ascending=False)"
   ],
   "metadata": {
    "collapsed": false,
    "pycharm": {
     "name": "#%%\n"
    }
   }
  },
  {
   "cell_type": "code",
   "execution_count": 38,
   "outputs": [],
   "source": [],
   "metadata": {
    "collapsed": false,
    "pycharm": {
     "name": "#%%\n"
    }
   }
  }
 ],
 "metadata": {
  "kernelspec": {
   "display_name": "Python 3",
   "language": "python",
   "name": "python3"
  },
  "language_info": {
   "codemirror_mode": {
    "name": "ipython",
    "version": 2
   },
   "file_extension": ".py",
   "mimetype": "text/x-python",
   "name": "python",
   "nbconvert_exporter": "python",
   "pygments_lexer": "ipython2",
   "version": "2.7.6"
  }
 },
 "nbformat": 4,
 "nbformat_minor": 0
}