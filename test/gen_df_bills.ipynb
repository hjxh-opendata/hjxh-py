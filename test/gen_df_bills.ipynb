{
 "cells": [
  {
   "cell_type": "code",
   "execution_count": 65,
   "metadata": {
    "collapsed": true
   },
   "outputs": [],
   "source": [
    "from datetime import datetime\n",
    "\n",
    "import numpy as np\n",
    "import pandas as pd\n",
    "\n",
    "from db.bills import db_fetch_bills, coll_bills"
   ]
  },
  {
   "cell_type": "code",
   "execution_count": 61,
   "outputs": [],
   "source": [
    "BILLS_PROJECTIONS = {\n",
    "\n",
    "}\n",
    "\n",
    "bills_docs = db_fetch_bills({\"goods_id\": 221058511472}, {\"order_time\": 1, \"goods_number\":1, \"spec\": 1}, limit=10000)\n",
    "df_bills = pd.DataFrame(bills_docs)\n"
   ],
   "metadata": {
    "collapsed": false,
    "pycharm": {
     "name": "#%%\n"
    }
   }
  },
  {
   "cell_type": "code",
   "execution_count": 74,
   "outputs": [],
   "source": [
    "df_bills['date'] = df_bills['order_time'].apply(lambda x: datetime.fromtimestamp(x).date())\n",
    "\n",
    "dfp =  df_bills.pivot_table(index=['date'], columns=['spec'], values=['goods_number'], aggfunc=np.sum, fill_value=0).sort_index(ascending=False)\n",
    "\n",
    "list(dict(date=i, **j) for (i, j) in dfp.droplevel(0, axis=1).iterrows())"
   ],
   "metadata": {
    "collapsed": false,
    "pycharm": {
     "name": "#%%\n"
    }
   }
  },
  {
   "cell_type": "code",
   "execution_count": 113,
   "outputs": [
    {
     "data": {
      "text/plain": "[{'名称': '1斤10根 原味【试吃不划算】', '04-23': 59, '04-24': 181},\n {'名称': '1斤10根 黑椒味【试吃不划算】', '04-23': 47, '04-24': 98},\n {'名称': '2斤20根 原味 【2袋装】', '04-23': 67, '04-24': 103},\n {'名称': '2斤20根 黑椒味【2袋装】', '04-23': 28, '04-24': 99},\n {'名称': '2斤20根【原味10根+黑椒10根】', '04-23': 96, '04-24': 210},\n {'名称': '3斤30根 原味【超值3袋装】', '04-23': 20, '04-24': 47},\n {'名称': '3斤30根 黑椒味【超值3袋装】', '04-23': 11, '04-24': 25},\n {'名称': '3斤30根【原味10根+黑椒20根】', '04-23': 16, '04-24': 49},\n {'名称': '3斤30根【原味20根+黑椒10根】', '04-23': 24, '04-24': 45},\n {'名称': '4斤40根 原味【大份批发价】', '04-23': 156, '04-24': 343},\n {'名称': '4斤40根 黑椒味【大份批发价】', '04-23': 102, '04-24': 209},\n {'名称': '4斤【原味20根+黑椒20根】超划算', '04-23': 374, '04-24': 747}]"
     },
     "execution_count": 113,
     "metadata": {},
     "output_type": "execute_result"
    }
   ],
   "source": [
    "goods_id = 221058511472\n",
    "BILLS_PROJECTION = ['goods_id', \"goods_number\", 'spec', 'order_time']\n",
    "\n",
    "bills_docs = db_fetch_bills({\"goods_id\": goods_id}, BILLS_PROJECTION, limit=3000)\n",
    "df_bills = pd.DataFrame(bills_docs)\n",
    "df_bills['date'] = df_bills['order_time'].apply(lambda x: datetime.fromtimestamp(x).date())"
   ],
   "metadata": {
    "collapsed": false,
    "pycharm": {
     "name": "#%%\n"
    }
   }
  },
  {
   "cell_type": "code",
   "execution_count": 114,
   "outputs": [],
   "source": [
    "dfp = df_bills.pivot_table(index=['spec'], columns=['date'], values=['goods_number'], aggfunc=np.sum,\n",
    "                           fill_value=0).droplevel(level=0, axis=1)\n",
    "dfp.sort_index(axis=1, ascending=False, inplace=True)"
   ],
   "metadata": {
    "collapsed": false,
    "pycharm": {
     "name": "#%%\n"
    }
   }
  },
  {
   "cell_type": "code",
   "execution_count": 115,
   "outputs": [
    {
     "data": {
      "text/plain": "[{'名称': '1斤10根 原味【试吃不划算】', '04-24': 181, '04-23': 59},\n {'名称': '1斤10根 黑椒味【试吃不划算】', '04-24': 98, '04-23': 47},\n {'名称': '2斤20根 原味 【2袋装】', '04-24': 103, '04-23': 67},\n {'名称': '2斤20根 黑椒味【2袋装】', '04-24': 99, '04-23': 28},\n {'名称': '2斤20根【原味10根+黑椒10根】', '04-24': 210, '04-23': 96},\n {'名称': '3斤30根 原味【超值3袋装】', '04-24': 47, '04-23': 20},\n {'名称': '3斤30根 黑椒味【超值3袋装】', '04-24': 25, '04-23': 11},\n {'名称': '3斤30根【原味10根+黑椒20根】', '04-24': 49, '04-23': 16},\n {'名称': '3斤30根【原味20根+黑椒10根】', '04-24': 45, '04-23': 24},\n {'名称': '4斤40根 原味【大份批发价】', '04-24': 343, '04-23': 156},\n {'名称': '4斤40根 黑椒味【大份批发价】', '04-24': 209, '04-23': 102},\n {'名称': '4斤【原味20根+黑椒20根】超划算', '04-24': 747, '04-23': 374}]"
     },
     "execution_count": 115,
     "metadata": {},
     "output_type": "execute_result"
    }
   ],
   "source": [
    "cols = list(dfp.columns.map(lambda x: x.strftime(\"%m-%d\")))\n",
    "def gen_item(i, j):\n",
    "    d = {'名称': i}\n",
    "    d.update(zip(cols, j))\n",
    "    return d\n",
    "items = [gen_item(i, j) for (i, j) in dfp.iterrows()]\n",
    "items"
   ],
   "metadata": {
    "collapsed": false,
    "pycharm": {
     "name": "#%%\n"
    }
   }
  },
  {
   "cell_type": "code",
   "execution_count": null,
   "outputs": [],
   "source": [],
   "metadata": {
    "collapsed": false,
    "pycharm": {
     "name": "#%%\n"
    }
   }
  }
 ],
 "metadata": {
  "kernelspec": {
   "display_name": "Python 3",
   "language": "python",
   "name": "python3"
  },
  "language_info": {
   "codemirror_mode": {
    "name": "ipython",
    "version": 2
   },
   "file_extension": ".py",
   "mimetype": "text/x-python",
   "name": "python",
   "nbconvert_exporter": "python",
   "pygments_lexer": "ipython2",
   "version": "2.7.6"
  }
 },
 "nbformat": 4,
 "nbformat_minor": 0
}